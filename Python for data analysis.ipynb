{
 "cells": [
  {
   "cell_type": "markdown",
   "id": "2b4109e4",
   "metadata": {},
   "source": [
    "# Pandas is a fast, powerful, flexible and easy to use open source data analysis and manipulation tool,it can read files like Excel or Csv.\n",
    "# Numpy provides support for multidimensional arrays, matrices, and a collection of mathematical functions to operate on these arrays efficiently\n",
    "# Matplotlib is used to visualize the data"
   ]
  },
  {
   "cell_type": "markdown",
   "id": "0f192218",
   "metadata": {},
   "source": [
    "# Import library"
   ]
  },
  {
   "cell_type": "code",
   "execution_count": null,
   "id": "1d16f45b",
   "metadata": {},
   "outputs": [],
   "source": [
    "#if library does not exist \n",
    "# pip install pandas\n",
    "# pip install numpy\n",
    "# pip install matplotlib\n",
    "import pandas as pd\n",
    "import numpy as np\n",
    "import matplotlib.pyplot as plt"
   ]
  },
  {
   "cell_type": "markdown",
   "id": "ae2dec06",
   "metadata": {},
   "source": [
    "# Read file"
   ]
  },
  {
   "cell_type": "code",
   "execution_count": null,
   "id": "be2c8cb4",
   "metadata": {},
   "outputs": [],
   "source": [
    "#if the file is not in the same directory you need to write the directory \n",
    "#make sure the file extension is xlsx or Csv\n",
    "data = pd.read_csv(\"sleep.csv\")\n",
    "#first 5 columns\n",
    "data.head()"
   ]
  },
  {
   "cell_type": "code",
   "execution_count": null,
   "id": "224f26c3",
   "metadata": {},
   "outputs": [],
   "source": [
    "#last 5 columns\n",
    "data.tail()"
   ]
  },
  {
   "cell_type": "code",
   "execution_count": null,
   "id": "01be64cd",
   "metadata": {},
   "outputs": [],
   "source": [
    "#random 10 samples\n",
    "data.sample(10)"
   ]
  },
  {
   "cell_type": "markdown",
   "id": "5b2bed46",
   "metadata": {},
   "source": [
    "# Understand data"
   ]
  },
  {
   "cell_type": "code",
   "execution_count": null,
   "id": "4b60099d",
   "metadata": {},
   "outputs": [],
   "source": [
    "#defult of head show the first 5 you can type more if you want \n",
    "data.head(6)"
   ]
  },
  {
   "cell_type": "code",
   "execution_count": null,
   "id": "ad24cf46",
   "metadata": {},
   "outputs": [],
   "source": [
    "#show coulmns name\n",
    "data.columns"
   ]
  },
  {
   "cell_type": "code",
   "execution_count": null,
   "id": "a2a21ebd",
   "metadata": {},
   "outputs": [],
   "source": [
    "#number of rows\n",
    "data.index"
   ]
  },
  {
   "cell_type": "code",
   "execution_count": null,
   "id": "860379d8",
   "metadata": {},
   "outputs": [],
   "source": [
    "#show columns and rows\n",
    "data.shape"
   ]
  },
  {
   "cell_type": "code",
   "execution_count": null,
   "id": "f4a8370f",
   "metadata": {},
   "outputs": [],
   "source": [
    "#statistics  \n",
    "data.describe()"
   ]
  },
  {
   "cell_type": "markdown",
   "id": "e1ff8753",
   "metadata": {},
   "source": [
    "# Column slicing"
   ]
  },
  {
   "cell_type": "markdown",
   "id": "d235dc43",
   "metadata": {},
   "source": [
    "lets try to slice column by two ways "
   ]
  },
  {
   "cell_type": "code",
   "execution_count": null,
   "id": "8c37e174",
   "metadata": {},
   "outputs": [],
   "source": [
    "#if there is no space use . like .age\n",
    "data.Age"
   ]
  },
  {
   "cell_type": "code",
   "execution_count": null,
   "id": "fa4ea0b9",
   "metadata": {},
   "outputs": [],
   "source": [
    "#if there is space use [''],data.Sleep Duration u will got error\n",
    "occ = data['Sleep Duration']"
   ]
  },
  {
   "cell_type": "code",
   "execution_count": null,
   "id": "c6513d9c",
   "metadata": {},
   "outputs": [],
   "source": [
    "#i can make any opreation on column\n",
    "Avg_age = data.Age.mean()\n",
    "Avg_age"
   ]
  },
  {
   "cell_type": "code",
   "execution_count": null,
   "id": "cc758d3e",
   "metadata": {},
   "outputs": [],
   "source": [
    "#unique value\n",
    "data.Age.unique()"
   ]
  },
  {
   "cell_type": "code",
   "execution_count": null,
   "id": "16c4266b",
   "metadata": {},
   "outputs": [],
   "source": [
    "#number of unique values\n",
    "data.Age.nunique()"
   ]
  },
  {
   "cell_type": "code",
   "execution_count": null,
   "id": "4f0ed5c4",
   "metadata": {},
   "outputs": [],
   "source": [
    "#type of column \n",
    "data.Age.dtypes"
   ]
  },
  {
   "cell_type": "code",
   "execution_count": null,
   "id": "bdc98788",
   "metadata": {},
   "outputs": [],
   "source": [
    "#count of values \n",
    "data['Heart Rate'].value_counts()"
   ]
  },
  {
   "cell_type": "markdown",
   "id": "b52908de",
   "metadata": {},
   "source": [
    "# How to slice many columns "
   ]
  },
  {
   "cell_type": "markdown",
   "id": "88c0e96a",
   "metadata": {},
   "source": [
    "Lets try to slice columns by three ways "
   ]
  },
  {
   "cell_type": "code",
   "execution_count": null,
   "id": "2bbd1922",
   "metadata": {},
   "outputs": [],
   "source": [
    "#first method\n",
    "Age_Geder_SleepDuration = data[['Age','Gender','Sleep Duration']]\n",
    "Age_Geder_SleepDuration.head()"
   ]
  },
  {
   "cell_type": "code",
   "execution_count": null,
   "id": "1342e523",
   "metadata": {},
   "outputs": [],
   "source": [
    "#second iloc select columns using index \n",
    "# iloc[rows,columns]\n",
    "four_col = data.iloc[:,0:5]\n",
    "four_col.head()"
   ]
  },
  {
   "cell_type": "code",
   "execution_count": null,
   "id": "992b6053",
   "metadata": {},
   "outputs": [],
   "source": [
    "#loc is use to spicify column with a condtion\n",
    "Male = data.loc[data.Gender == 'Male',:]\n",
    "Male.head()"
   ]
  },
  {
   "cell_type": "code",
   "execution_count": null,
   "id": "49533eb8",
   "metadata": {},
   "outputs": [],
   "source": [
    "BMI_Pressure = data.loc[: , ['BMI Category' , 'Blood Pressure']]\n",
    "BMI_Pressure.head()"
   ]
  },
  {
   "cell_type": "code",
   "execution_count": null,
   "id": "b22ef851",
   "metadata": {},
   "outputs": [],
   "source": [
    "#two condtions using and\n",
    "Male_Doctor = data.loc[(data['Gender'] == 'Male') & (data['Occupation'] == 'Doctor'),:]\n",
    "Male_Doctor.head()"
   ]
  },
  {
   "cell_type": "code",
   "execution_count": null,
   "id": "86443078",
   "metadata": {},
   "outputs": [],
   "source": [
    "# twoc condtions using or\n",
    "Female_steps = data.loc[ (data['Gender'] == 'Female') | (data['Daily Steps'] > 8000),:]\n",
    "Female_steps.head()"
   ]
  },
  {
   "cell_type": "markdown",
   "id": "88e54207",
   "metadata": {},
   "source": [
    "# Cleaning "
   ]
  },
  {
   "cell_type": "code",
   "execution_count": null,
   "id": "3018809b",
   "metadata": {},
   "outputs": [],
   "source": [
    "data.isnull().sum()"
   ]
  },
  {
   "cell_type": "markdown",
   "id": "67fb7846",
   "metadata": {},
   "source": [
    "- we should remove null values by replacing them or delete them \n",
    "- in numrical data replace null values with average values\n",
    "- categorical data replace null values with most frequant data"
   ]
  },
  {
   "cell_type": "code",
   "execution_count": null,
   "id": "81e5850e",
   "metadata": {},
   "outputs": [],
   "source": [
    "data['Occupation'].value_counts()"
   ]
  },
  {
   "cell_type": "code",
   "execution_count": null,
   "id": "f6b8358e",
   "metadata": {},
   "outputs": [],
   "source": [
    "#replace categorical\n",
    "data['Occupation'] = data['Occupation'].replace(np.nan,\"Nurse\")\n",
    "data['Sleep Disorder'] = data['Sleep Disorder'].replace(np.nan,'no effect')"
   ]
  },
  {
   "cell_type": "code",
   "execution_count": null,
   "id": "00093287",
   "metadata": {},
   "outputs": [],
   "source": [
    "#replace numerical values with mean values\n",
    "data['Heart Rate'] = data['Heart Rate'].replace(np.nan,data['Heart Rate'].mean())\n",
    "data['Sleep Duration'] = data['Sleep Duration'].replace(np.nan,data['Sleep Duration'].mean())"
   ]
  },
  {
   "cell_type": "code",
   "execution_count": null,
   "id": "8a1936a6",
   "metadata": {},
   "outputs": [],
   "source": [
    "# Delete nulls\n",
    "data = data.dropna()"
   ]
  },
  {
   "cell_type": "code",
   "execution_count": null,
   "id": "82ebbd28",
   "metadata": {},
   "outputs": [],
   "source": [
    "#no null\n",
    "data.isnull().sum()"
   ]
  },
  {
   "cell_type": "code",
   "execution_count": null,
   "id": "6d0dd054",
   "metadata": {},
   "outputs": [],
   "source": [
    "#we have in BMI normal & normal weight so its the same thing \n",
    "#lets replace it \n",
    "data['BMI Category'] = data['BMI Category'].replace('Normal Weight','Normal')\n",
    "data.head()"
   ]
  },
  {
   "cell_type": "code",
   "execution_count": null,
   "id": "2cd0c062",
   "metadata": {},
   "outputs": [],
   "source": [
    "#drop dublicates\n",
    "data = data.drop_duplicates()"
   ]
  },
  {
   "cell_type": "markdown",
   "id": "77fe017d",
   "metadata": {},
   "source": [
    "# Insights"
   ]
  },
  {
   "cell_type": "code",
   "execution_count": null,
   "id": "21a886da",
   "metadata": {},
   "outputs": [],
   "source": [
    "df1 = data[['Gender','Sleep Duration']]\n",
    "df1.head()\n",
    "mean_sleep_duration_by_gender = df1.groupby('Gender')['Sleep Duration'].mean()\n",
    "mean_sleep_duration_by_gender"
   ]
  },
  {
   "cell_type": "code",
   "execution_count": null,
   "id": "cc47c433",
   "metadata": {},
   "outputs": [],
   "source": [
    "#groupby two columns\n",
    "grouped_data = data.groupby(['Occupation', 'BMI Category']).agg({'Sleep Duration': 'mean'})\n",
    "grouped_data"
   ]
  },
  {
   "cell_type": "markdown",
   "id": "cc9c9298",
   "metadata": {},
   "source": [
    "# Concat & Merge dataframes"
   ]
  },
  {
   "cell_type": "code",
   "execution_count": null,
   "id": "4f28f8a9",
   "metadata": {},
   "outputs": [],
   "source": [
    "df1.head()"
   ]
  },
  {
   "cell_type": "code",
   "execution_count": null,
   "id": "7857dffe",
   "metadata": {},
   "outputs": [],
   "source": [
    "df2 = data[[\"BMI Category\",'Sleep Disorder']]\n",
    "df2.head()"
   ]
  },
  {
   "cell_type": "code",
   "execution_count": null,
   "id": "fc239c4d",
   "metadata": {},
   "outputs": [],
   "source": [
    "concatenated_df = pd.concat([df1, df2], ignore_index=True)\n",
    "concatenated_df"
   ]
  },
  {
   "cell_type": "markdown",
   "id": "cb555d52",
   "metadata": {},
   "source": [
    "# If u want to merge you need a common column to merge on it like vlookup in excel \n",
    "EX:merged_df = pd.merge(df1, df2, on='ID', how='inner')"
   ]
  },
  {
   "cell_type": "markdown",
   "id": "ff4aadfa",
   "metadata": {},
   "source": [
    "# Visualization"
   ]
  },
  {
   "cell_type": "code",
   "execution_count": null,
   "id": "0223c38b",
   "metadata": {},
   "outputs": [],
   "source": [
    "mean_sleep_duration_by_gender = df1.groupby('Gender')['Sleep Duration'].mean()\n",
    "\n",
    "# Create a pie chart\n",
    "plt.pie(mean_sleep_duration_by_gender, labels=mean_sleep_duration_by_gender.index, autopct='%1.1f%%')\n",
    "\n",
    "# Add title\n",
    "plt.title('Sleep duration by gender')\n",
    "\n",
    "# Add x-axis label\n",
    "plt.xlabel('Gender')\n",
    "\n",
    "# Add y-axis label\n",
    "plt.ylabel('Mean Sleep Duration')\n",
    "\n",
    "# Show the pie chart\n",
    "plt.show()"
   ]
  },
  {
   "cell_type": "code",
   "execution_count": null,
   "id": "6c351d3b",
   "metadata": {},
   "outputs": [],
   "source": [
    "# Grouping data by 'Occupation' and calculating the average quality of sleep for each occupation\n",
    "occupation_quality = data.groupby('Occupation')['Quality of Sleep'].mean()\n",
    "\n",
    "# Extracting occupation names and corresponding quality of sleep values\n",
    "occupations = occupation_quality.index\n",
    "quality_of_sleep = occupation_quality.values\n",
    "\n",
    "# Creating a bar chart\n",
    "plt.figure(figsize=(10, 6))  # Adjust figure size as needed\n",
    "plt.bar(occupations, quality_of_sleep, color='skyblue')\n",
    "\n",
    "# Adding title and labels\n",
    "plt.title('Average Quality of Sleep by Occupation')\n",
    "plt.xlabel('Occupation')\n",
    "plt.ylabel('Quality of Sleep')\n",
    "\n",
    "# Rotating x-axis labels for better readability\n",
    "plt.xticks(rotation=45, ha='right')\n",
    "\n",
    "# Displaying the plot\n",
    "plt.show()"
   ]
  },
  {
   "cell_type": "code",
   "execution_count": null,
   "id": "b030e352",
   "metadata": {},
   "outputs": [],
   "source": [
    "# Assuming you have a DataFrame named data with a 'Heart Rate' column\n",
    "heart_rate_data = data['Heart Rate']\n",
    "\n",
    "# Creating a histogram\n",
    "plt.figure(figsize=(8, 6))  # Adjust figure size as needed\n",
    "plt.hist(heart_rate_data, bins=5, color='red', edgecolor='black')\n",
    "\n",
    "# Adding title and labels\n",
    "plt.title('Histogram of Heart Rate')\n",
    "plt.xlabel('Heart Rate')\n",
    "plt.ylabel('rates')\n",
    "\n",
    "# Displaying the plot\n",
    "plt.grid(True)\n",
    "plt.show()"
   ]
  }
 ],
 "metadata": {
  "kernelspec": {
   "display_name": "Python 3 (ipykernel)",
   "language": "python",
   "name": "python3"
  },
  "language_info": {
   "codemirror_mode": {
    "name": "ipython",
    "version": 3
   },
   "file_extension": ".py",
   "mimetype": "text/x-python",
   "name": "python",
   "nbconvert_exporter": "python",
   "pygments_lexer": "ipython3",
   "version": "3.11.5"
  }
 },
 "nbformat": 4,
 "nbformat_minor": 5
}
